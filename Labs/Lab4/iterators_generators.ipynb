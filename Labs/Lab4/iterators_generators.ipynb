{
 "cells": [
  {
   "cell_type": "markdown",
   "metadata": {},
   "source": [
    "Реализуйте генератор, который возвращает все числа от (n) до 0."
   ]
  },
  {
   "cell_type": "code",
   "execution_count": null,
   "metadata": {},
   "outputs": [],
   "source": [
    "def my_func(n):\n",
    "    for nums in range(n, -1, -1):\n",
    "        yield nums\n",
    "        \n",
    "n = int(input())\n",
    "\n",
    "for number in my_func(n):\n",
    "    print(number)\n",
    "    "
   ]
  },
  {
   "cell_type": "markdown",
   "metadata": {},
   "source": [
    "Реализуйте генератор, который называется squaresдля получения квадрата всех чисел от (a) до (b). Проверьте его с помощью цикла \"for\" и выведите каждое из полученных значений. "
   ]
  },
  {
   "cell_type": "code",
   "execution_count": null,
   "metadata": {},
   "outputs": [],
   "source": [
    "def squares(a, b):\n",
    "    for num in range(a, b + 1):\n",
    "        yield num ** 2\n",
    "a = int(input())\n",
    "b = int(input())\n",
    "\n",
    "for square in squares(a, b):\n",
    "    print(square)"
   ]
  },
  {
   "cell_type": "markdown",
   "metadata": {},
   "source": [
    "Определите функцию с генератором, которая может перебирать числа, делящиеся на 3 и 4, в заданном диапазоне от 0 до n. правильный ли мой код?"
   ]
  },
  {
   "cell_type": "code",
   "execution_count": null,
   "metadata": {},
   "outputs": [],
   "source": [
    "def my_func(n):\n",
    "    for nums in range(n + 1):\n",
    "        if nums % 3==0 and nums % 4==0:\n",
    "            yield nums\n",
    "            \n",
    "n = int(input())\n",
    "print(\",\".join(map(str, my_func(n))))"
   ]
  },
  {
   "cell_type": "markdown",
   "metadata": {},
   "source": [
    "Напишите программу, использующую генератор, для вывода четных чисел от 0 до 0, nразделенных запятыми, где nвводится с консоли."
   ]
  },
  {
   "cell_type": "code",
   "execution_count": null,
   "metadata": {},
   "outputs": [],
   "source": [
    "def my_fuunc(n):\n",
    "    for num in range(n + 1):\n",
    "        if num % 2 == 0:\n",
    "            yield num\n",
    "            \n",
    "n = int(input())\n",
    "print(\", \".join(map(str, my_fuunc(n))))\n",
    "        \n",
    "            \n"
   ]
  },
  {
   "cell_type": "markdown",
   "metadata": {},
   "source": [
    "Создайте генератор, который генерирует квадраты чисел до некоторого числа N."
   ]
  },
  {
   "cell_type": "code",
   "execution_count": null,
   "metadata": {},
   "outputs": [],
   "source": [
    "def my_func(N):\n",
    "    for i in range(1, N + 1):\n",
    "        yield i ** 2\n",
    "\n",
    "N = 5\n",
    "gen = my_func(N)\n",
    "\n",
    "for square in gen:\n",
    "    print(square)"
   ]
  }
 ],
 "metadata": {
  "language_info": {
   "name": "python"
  }
 },
 "nbformat": 4,
 "nbformat_minor": 2
}
