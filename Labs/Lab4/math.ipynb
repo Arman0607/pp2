{
 "cells": [
  {
   "cell_type": "markdown",
   "metadata": {},
   "source": [
    "4. Напишите программу на Python для вычисления площади параллелограмма."
   ]
  },
  {
   "cell_type": "code",
   "execution_count": null,
   "metadata": {},
   "outputs": [],
   "source": [
    "import math\n",
    "\n",
    "def parallelogram_area(base, height):\n",
    "    return base * height\n",
    "\n",
    "base = float(input())\n",
    "height = float(input())\n",
    "\n",
    "print(f\"{parallelogram_area(base, height):.6f}\")\n"
   ]
  },
  {
   "cell_type": "markdown",
   "metadata": {},
   "source": [
    "3. Напишите программу на Python для вычисления площади правильного многоугольника."
   ]
  },
  {
   "cell_type": "code",
   "execution_count": null,
   "metadata": {},
   "outputs": [],
   "source": [
    "import math\n",
    "\n",
    "def polygon_area(n, s):\n",
    "    return (n * s**2) / (4 * math.tan(math.pi / n))\n",
    "\n",
    "n = int(input())\n",
    "s = float(input())\n",
    "\n",
    "print(f\"{polygon_area(n, s):.6f}\")"
   ]
  },
  {
   "cell_type": "markdown",
   "metadata": {},
   "source": [
    "2. Напишите программу на Python для вычисления площади трапеции"
   ]
  },
  {
   "cell_type": "code",
   "execution_count": null,
   "metadata": {},
   "outputs": [],
   "source": [
    "import math\n",
    "\n",
    "def my_func(a,b,h):\n",
    "    return (a + b)/2 * h\n",
    "\n",
    "a = float(input())\n",
    "b = float(input())\n",
    "h = float(input())\n",
    "\n",
    "area = my_func(a, b, h)\n",
    "\n",
    "print(f\"Площадь трапеции: {area:.0f}\")"
   ]
  },
  {
   "cell_type": "markdown",
   "metadata": {},
   "source": [
    "1.Напишите программу на Python для преобразования градусов в радианы.\n",
    "Input degree: 15\n",
    "Output radian: 0.261904"
   ]
  },
  {
   "cell_type": "code",
   "execution_count": null,
   "metadata": {},
   "outputs": [],
   "source": [
    "import math\n",
    "\n",
    "def my_func(degr):\n",
    "    return degr * (math.pi / 180)\n",
    "\n",
    "degr = float(input())\n",
    "radians = my_func(degr)\n",
    "print(radians)"
   ]
  }
 ],
 "metadata": {
  "language_info": {
   "name": "python"
  }
 },
 "nbformat": 4,
 "nbformat_minor": 2
}
