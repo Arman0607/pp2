{
 "cells": [
  {
   "cell_type": "markdown",
   "metadata": {},
   "source": [
    "Напишите программу на Python для расчета разницы между двумя датами в секундах."
   ]
  },
  {
   "cell_type": "code",
   "execution_count": null,
   "metadata": {},
   "outputs": [],
   "source": [
    "from datetime import datetime\n",
    "\n",
    "first_date = datetime.strptime(input(\"Введите первую дату (ГГГГ-ММ-ДД ЧЧ:ММ:СС): \"), \"%Y-%m-%d %H:%M:%S\")\n",
    "second_date = datetime.strptime(input(\"Введите вторую дату (ГГГГ-ММ-ДД ЧЧ:ММ:СС): \"), \"%Y-%m-%d %H:%M:%S\")\n",
    "\n",
    "\n",
    "difference = abs((second_date - first_date).total_seconds())\n",
    "\n",
    "\n",
    "print(\"Разница в секундах:\", int(difference))\n"
   ]
  },
  {
   "cell_type": "markdown",
   "metadata": {},
   "source": [
    "Напишите программу на Python для удаления микросекунд из даты и времени.\n",
    "\n"
   ]
  },
  {
   "cell_type": "code",
   "execution_count": null,
   "metadata": {},
   "outputs": [],
   "source": [
    "from datetime import datetime\n",
    "\n",
    "now = datetime.now().replace(microsecond=0)\n",
    "print(\"Дата и время без микросекунд:\", now.strftime(\"%Y-%m-%d %H:%M:%S\"))\n"
   ]
  },
  {
   "cell_type": "markdown",
   "metadata": {},
   "source": [
    "Напишите программу на Python для печати вчера, сегодня, завтра."
   ]
  },
  {
   "cell_type": "code",
   "execution_count": null,
   "metadata": {},
   "outputs": [],
   "source": [
    "from datetime import datetime, timedelta\n",
    "\n",
    "today = datetime.today()\n",
    "yesterday = today - timedelta(days=1)\n",
    "tomorrow = today + timedelta(days=1)\n",
    "\n",
    "print(\"Вчера:\", yesterday.strftime(\"%Y-%m-%d\"))\n",
    "print(\"Сегодня:\", today.strftime(\"%Y-%m-%d\"))\n",
    "print(\"Завтра:\", tomorrow.strftime(\"%Y-%m-%d\"))"
   ]
  },
  {
   "cell_type": "markdown",
   "metadata": {},
   "source": [
    "Напишите программу на Python, которая вычтет пять дней из текущей даты.\n",
    "\n"
   ]
  },
  {
   "cell_type": "code",
   "execution_count": null,
   "metadata": {},
   "outputs": [],
   "source": [
    "from datetime import datetime, timedelta\n",
    "\n",
    "print((datetime.today() - timedelta(days=5)).strftime(\"%Y-%m-%d\"))\n"
   ]
  }
 ],
 "metadata": {
  "language_info": {
   "name": "python"
  }
 },
 "nbformat": 4,
 "nbformat_minor": 2
}
