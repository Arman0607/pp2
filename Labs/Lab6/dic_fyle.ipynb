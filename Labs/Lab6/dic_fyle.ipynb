{
 "cells": [
  {
   "cell_type": "markdown",
   "metadata": {},
   "source": [
    "8. Напишите программу Python для удаления файла по указанному пути. Перед удалением проверьте доступ и существование указанного пути."
   ]
  },
  {
   "cell_type": "code",
   "execution_count": null,
   "metadata": {},
   "outputs": [],
   "source": [
    "import os\n",
    "\n",
    "def delete_file(path):\n",
    "    if os.path.exists(path) and os.access(path, os.W_OK):\n",
    "        os.remove(path)\n",
    "        print(\"File deleted.\")\n",
    "    else:\n",
    "        print(\"File does not exist or cannot be deleted.\")\n",
    "\n",
    "delete_file(\"test.txt\")  \n"
   ]
  },
  {
   "cell_type": "markdown",
   "metadata": {},
   "source": [
    "7. Напишите программу на Python для копирования содержимого файла в другой файл"
   ]
  },
  {
   "cell_type": "code",
   "execution_count": null,
   "metadata": {},
   "outputs": [],
   "source": [
    "def copy_file(src, dst):\n",
    "    with open(src, 'r', encoding='utf-8') as f1, open(dst, 'w', encoding='utf-8') as f2:\n",
    "        f2.write(f1.read())\n",
    "\n",
    "copy_file(\"source.txt\", \"destination.txt\")  \n"
   ]
  },
  {
   "cell_type": "markdown",
   "metadata": {},
   "source": [
    "6. Напишите программу на Python для генерации 26 текстовых файлов с именами A.txt, B.txt и т. д. до Z.txt."
   ]
  },
  {
   "cell_type": "code",
   "execution_count": null,
   "metadata": {},
   "outputs": [],
   "source": [
    "import string\n",
    "\n",
    "for letter in string.ascii_uppercase:\n",
    "    with open(f\"{letter}.txt\", \"w\", encoding=\"utf-8\") as f:\n",
    "        f.write(f\"File {letter}.txt\")\n"
   ]
  },
  {
   "cell_type": "markdown",
   "metadata": {},
   "source": [
    "5. Напишите программу на Python для записи списка в файл."
   ]
  },
  {
   "cell_type": "code",
   "execution_count": null,
   "metadata": {},
   "outputs": [],
   "source": [
    "def write_list_to_file(filename, lst):\n",
    "    with open(filename, 'w', encoding='utf-8') as f:\n",
    "        f.writelines(f\"{item}\\n\" for item in lst)\n",
    "\n",
    "lst = [\"apple\", \"banana\", \"cherry\"]\n",
    "filename = \"output.txt\"  # Укажите имя файла\n",
    "write_list_to_file(filename, lst)\n"
   ]
  },
  {
   "cell_type": "markdown",
   "metadata": {},
   "source": [
    "4. Напишите программу на Python для подсчета количества строк в текстовом файле."
   ]
  },
  {
   "cell_type": "code",
   "execution_count": null,
   "metadata": {},
   "outputs": [],
   "source": [
    "def count_lines(filename):\n",
    "    with open(filename, 'r', encoding='utf-8') as f:\n",
    "        return sum(1 for _ in f)\n",
    "\n",
    "filename = \"example.txt\"  \n",
    "print(\"Number of lines:\", count_lines(filename))\n"
   ]
  },
  {
   "cell_type": "markdown",
   "metadata": {},
   "source": [
    "3. Напишите программу Python для проверки существования заданного пути. Если путь существует, найдите часть имени файла и каталога заданного пути."
   ]
  },
  {
   "cell_type": "code",
   "execution_count": null,
   "metadata": {},
   "outputs": [],
   "source": [
    "import os\n",
    "\n",
    "def check_path(path):\n",
    "    if os.path.exists(path):\n",
    "        print(\"Directory:\", os.path.dirname(path))\n",
    "        print(\"Filename:\", os.path.basename(path))\n",
    "    else:\n",
    "        print(\"Path does not exist.\")\n",
    "\n",
    "path = \"example/test.txt\" \n",
    "check_path(path)\n"
   ]
  },
  {
   "cell_type": "markdown",
   "metadata": {},
   "source": [
    "2. Напишите программу Python для проверки доступа к указанному пути. Проверьте существование, читаемость, записываемость и исполняемость указанного пути."
   ]
  },
  {
   "cell_type": "code",
   "execution_count": null,
   "metadata": {},
   "outputs": [],
   "source": [
    "import os\n",
    "\n",
    "def check_path_access(path):\n",
    "    print(\"Exists:\", os.path.exists(path))\n",
    "    print(\"Readable:\", os.access(path, os.R_OK))\n",
    "    print(\"Writable:\", os.access(path, os.W_OK))\n",
    "    print(\"Executable:\", os.access(path, os.X_OK))\n",
    "\n",
    "path = \"test.txt\"  \n",
    "check_path_access(path)\n"
   ]
  },
  {
   "cell_type": "markdown",
   "metadata": {},
   "source": [
    "1. Напишите программу на Python для вывода списка только каталогов, файлов и всех каталогов и файлов по указанному пути."
   ]
  },
  {
   "cell_type": "code",
   "execution_count": null,
   "metadata": {},
   "outputs": [],
   "source": [
    "import os\n",
    "\n",
    "def list_contents(path):\n",
    "    print(\"Directories:\", [d for d in os.listdir(path) if os.path.isdir(os.path.join(path, d))])\n",
    "    print(\"Files:\", [f for f in os.listdir(path) if os.path.isfile(os.path.join(path, f))])\n",
    "    print(\"All:\", os.listdir(path))\n",
    "\n",
    "path = \".\"  \n",
    "list_contents(path)\n"
   ]
  }
 ],
 "metadata": {
  "language_info": {
   "name": "python"
  }
 },
 "nbformat": 4,
 "nbformat_minor": 2
}
