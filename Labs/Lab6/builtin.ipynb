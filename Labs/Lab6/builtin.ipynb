{
 "cells": [
  {
   "cell_type": "markdown",
   "metadata": {},
   "source": [
    "5. Напишите программу на Python со встроенной функцией, которая возвращает True, если все элементы кортежа имеют значение True."
   ]
  },
  {
   "cell_type": "code",
   "execution_count": null,
   "metadata": {},
   "outputs": [],
   "source": [
    "def all_true(t):\n",
    "    return all(t)\n",
    "\n",
    "t = (True, True, False)\n",
    "print(all_true(t))\n"
   ]
  },
  {
   "cell_type": "markdown",
   "metadata": {},
   "source": [
    "4. Напишите программу на Python, которая вызывает функцию квадратного корня через определенные миллисекунды"
   ]
  },
  {
   "cell_type": "code",
   "execution_count": null,
   "metadata": {},
   "outputs": [],
   "source": [
    "import math\n",
    "import time\n",
    "\n",
    "def delayed_sqrt(n, ms):\n",
    "    time.sleep(ms / 1000)\n",
    "    print(f\"Square root of {n} after {ms} milliseconds is {math.sqrt(n)}\")\n",
    "\n",
    "n = 25100\n",
    "ms = 2123\n",
    "delayed_sqrt(n, ms)\n"
   ]
  },
  {
   "cell_type": "markdown",
   "metadata": {},
   "source": [
    "3. Напишите программу на Python со встроенной функцией, которая проверяет, является ли переданная строка палиндромом или нет."
   ]
  },
  {
   "cell_type": "code",
   "execution_count": null,
   "metadata": {},
   "outputs": [],
   "source": [
    "import math\n",
    "\n",
    "def is_palindrome(s):\n",
    "    return s == s[::-1]\n",
    "\n",
    "s = \"madam\"\n",
    "print(is_palindrome(s))\n"
   ]
  },
  {
   "cell_type": "markdown",
   "metadata": {},
   "source": [
    "2. Напишите программу на Python со встроенной функцией, которая принимает строку и подсчитывает количество заглавных и строчных букв."
   ]
  },
  {
   "cell_type": "code",
   "execution_count": null,
   "metadata": {},
   "outputs": [],
   "source": [
    "s = \"Hello World\"\n",
    "\n",
    "u = sum(c.isupper() for c in s)\n",
    "l = sum(c.islower() for c in s)\n",
    "\n",
    "print(\"Uppercase:\", u, \"Lowercase:\", l)\n"
   ]
  },
  {
   "cell_type": "markdown",
   "metadata": {},
   "source": [
    "1. Напишите программу на Python со встроенной функцией для умножения всех чисел в списке."
   ]
  },
  {
   "cell_type": "code",
   "execution_count": null,
   "metadata": {},
   "outputs": [],
   "source": [
    "from math import prod\n",
    "\n",
    "nums = [2, 3, 4, 5]\n",
    "result = prod(nums)\n",
    "print(result)\n"
   ]
  }
 ],
 "metadata": {
  "language_info": {
   "name": "python"
  }
 },
 "nbformat": 4,
 "nbformat_minor": 2
}
